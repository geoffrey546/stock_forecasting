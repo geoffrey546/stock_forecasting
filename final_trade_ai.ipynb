{
  "nbformat": 4,
  "nbformat_minor": 0,
  "metadata": {
    "colab": {
      "name": "final_trade_ai",
      "provenance": [],
      "authorship_tag": "ABX9TyM1KT+JpF3Mgjsh5bIMOPGg",
      "include_colab_link": true
    },
    "kernelspec": {
      "name": "python3",
      "display_name": "Python 3"
    }
  },
  "cells": [
    {
      "cell_type": "markdown",
      "metadata": {
        "id": "view-in-github",
        "colab_type": "text"
      },
      "source": [
        "<a href=\"https://colab.research.google.com/github/geoffrey546/stock_forecasting/blob/main/final_trade_ai.ipynb\" target=\"_parent\"><img src=\"https://colab.research.google.com/assets/colab-badge.svg\" alt=\"Open In Colab\"/></a>"
      ]
    },
    {
      "cell_type": "code",
      "metadata": {
        "id": "IJA8ijijq757"
      },
      "source": [
        "import pandas as pd\n",
        "import numpy as np\n",
        "import matplotlib.pyplot as plt\n",
        "import seaborn as sns"
      ],
      "execution_count": 1,
      "outputs": []
    },
    {
      "cell_type": "code",
      "metadata": {
        "id": "lpJbPt6aq_p0",
        "colab": {
          "base_uri": "https://localhost:8080/"
        },
        "outputId": "a4cad72c-9ceb-4049-dbef-0bd083cd14a6"
      },
      "source": [
        "!pip install alpha_vantage"
      ],
      "execution_count": 2,
      "outputs": [
        {
          "output_type": "stream",
          "text": [
            "Collecting alpha_vantage\n",
            "  Downloading https://files.pythonhosted.org/packages/ba/b4/d95f9e0eccea6732bab5a079772d453a4f0b68a9f63740d9cf320f92beaa/alpha_vantage-2.3.1-py3-none-any.whl\n",
            "Requirement already satisfied: requests in /usr/local/lib/python3.6/dist-packages (from alpha_vantage) (2.23.0)\n",
            "Collecting aiohttp\n",
            "\u001b[?25l  Downloading https://files.pythonhosted.org/packages/ad/e6/d4b6235d776c9b33f853e603efede5aac5a34f71ca9d3877adb30492eb4e/aiohttp-3.7.3-cp36-cp36m-manylinux2014_x86_64.whl (1.3MB)\n",
            "\u001b[K     |████████████████████████████████| 1.3MB 6.7MB/s \n",
            "\u001b[?25hRequirement already satisfied: idna<3,>=2.5 in /usr/local/lib/python3.6/dist-packages (from requests->alpha_vantage) (2.10)\n",
            "Requirement already satisfied: chardet<4,>=3.0.2 in /usr/local/lib/python3.6/dist-packages (from requests->alpha_vantage) (3.0.4)\n",
            "Requirement already satisfied: urllib3!=1.25.0,!=1.25.1,<1.26,>=1.21.1 in /usr/local/lib/python3.6/dist-packages (from requests->alpha_vantage) (1.24.3)\n",
            "Requirement already satisfied: certifi>=2017.4.17 in /usr/local/lib/python3.6/dist-packages (from requests->alpha_vantage) (2020.12.5)\n",
            "Collecting multidict<7.0,>=4.5\n",
            "\u001b[?25l  Downloading https://files.pythonhosted.org/packages/a1/35/b22524d6b9cacfb4c5eff413a069bbc17c6ea628e54da5c6c989998ced5f/multidict-5.1.0-cp36-cp36m-manylinux2014_x86_64.whl (141kB)\n",
            "\u001b[K     |████████████████████████████████| 143kB 25.0MB/s \n",
            "\u001b[?25hRequirement already satisfied: typing-extensions>=3.6.5 in /usr/local/lib/python3.6/dist-packages (from aiohttp->alpha_vantage) (3.7.4.3)\n",
            "Collecting async-timeout<4.0,>=3.0\n",
            "  Downloading https://files.pythonhosted.org/packages/e1/1e/5a4441be21b0726c4464f3f23c8b19628372f606755a9d2e46c187e65ec4/async_timeout-3.0.1-py3-none-any.whl\n",
            "Collecting idna-ssl>=1.0; python_version < \"3.7\"\n",
            "  Downloading https://files.pythonhosted.org/packages/46/03/07c4894aae38b0de52b52586b24bf189bb83e4ddabfe2e2c8f2419eec6f4/idna-ssl-1.1.0.tar.gz\n",
            "Requirement already satisfied: attrs>=17.3.0 in /usr/local/lib/python3.6/dist-packages (from aiohttp->alpha_vantage) (20.3.0)\n",
            "Collecting yarl<2.0,>=1.0\n",
            "\u001b[?25l  Downloading https://files.pythonhosted.org/packages/da/08/52b26b44bce7b818b410aee37c5e424c9ea420c557bca97dc2adac29b151/yarl-1.6.3-cp36-cp36m-manylinux2014_x86_64.whl (293kB)\n",
            "\u001b[K     |████████████████████████████████| 296kB 18.8MB/s \n",
            "\u001b[?25hBuilding wheels for collected packages: idna-ssl\n",
            "  Building wheel for idna-ssl (setup.py) ... \u001b[?25l\u001b[?25hdone\n",
            "  Created wheel for idna-ssl: filename=idna_ssl-1.1.0-cp36-none-any.whl size=3163 sha256=95e15d5aae10e938dbd4edb79b851c053e10f43092faaff66d1a21f6486ce3b4\n",
            "  Stored in directory: /root/.cache/pip/wheels/d3/00/b3/32d613e19e08a739751dd6bf998cfed277728f8b2127ad4eb7\n",
            "Successfully built idna-ssl\n",
            "Installing collected packages: multidict, async-timeout, idna-ssl, yarl, aiohttp, alpha-vantage\n",
            "Successfully installed aiohttp-3.7.3 alpha-vantage-2.3.1 async-timeout-3.0.1 idna-ssl-1.1.0 multidict-5.1.0 yarl-1.6.3\n"
          ],
          "name": "stdout"
        }
      ]
    },
    {
      "cell_type": "code",
      "metadata": {
        "id": "GH1wSl3nrDBk"
      },
      "source": [
        "from alpha_vantage.timeseries import TimeSeries #we get the data from alpha_vantage"
      ],
      "execution_count": 3,
      "outputs": []
    },
    {
      "cell_type": "code",
      "metadata": {
        "id": "dcljaHwvrNBk"
      },
      "source": [
        "import time"
      ],
      "execution_count": 4,
      "outputs": []
    },
    {
      "cell_type": "code",
      "metadata": {
        "id": "hLdEeirmrOoC"
      },
      "source": [
        "api_key = '89OOFNM3BL4MEGMV'\n",
        "ts = TimeSeries(key=api_key, output_format='pandas')\n",
        "data, meta_data = ts.get_daily(symbol = 'MSFT', outputsize = 'full')"
      ],
      "execution_count": 5,
      "outputs": []
    },
    {
      "cell_type": "code",
      "metadata": {
        "id": "Rdcqg2SUw5wg"
      },
      "source": [
        "#planning to include both yesterdays and day before yesterdays\n",
        "open_val = data['1. open'].values\n",
        "close_val = data['4. close'].values \n",
        "high_val = data['2. high'].values \n",
        "low_val = data['3. low'].values "
      ],
      "execution_count": 7,
      "outputs": []
    },
    {
      "cell_type": "code",
      "metadata": {
        "id": "93nbm_EN5XKl"
      },
      "source": [
        "yesterday_close = np.delete(close_val, [0,5241])"
      ],
      "execution_count": 45,
      "outputs": []
    },
    {
      "cell_type": "code",
      "metadata": {
        "id": "L0E4nt6_6dR7"
      },
      "source": [
        "yesterday_open = np.delete(open_val, [0,5241])"
      ],
      "execution_count": 10,
      "outputs": []
    },
    {
      "cell_type": "code",
      "metadata": {
        "id": "f-GG9-Hj7NED"
      },
      "source": [
        "yesterday_high = np.delete(high_val, [0,5241])"
      ],
      "execution_count": 11,
      "outputs": []
    },
    {
      "cell_type": "code",
      "metadata": {
        "id": "AGCSqt1G7Ypc"
      },
      "source": [
        "yesterday_low = np.delete(low_val, [0,5241])"
      ],
      "execution_count": 12,
      "outputs": []
    },
    {
      "cell_type": "code",
      "metadata": {
        "id": "P29CQ29G7cP-"
      },
      "source": [
        "needed_open = np.delete(open_val, [5241,5240])"
      ],
      "execution_count": 13,
      "outputs": []
    },
    {
      "cell_type": "code",
      "metadata": {
        "id": "4G4Yig5s9xo8"
      },
      "source": [
        "needed_close = np.delete(close_val, [5241,5240])"
      ],
      "execution_count": 15,
      "outputs": []
    },
    {
      "cell_type": "code",
      "metadata": {
        "id": "9wQn5aNq93yp"
      },
      "source": [
        "needed_high = np.delete(high_val, [5241,5240])"
      ],
      "execution_count": 16,
      "outputs": []
    },
    {
      "cell_type": "code",
      "metadata": {
        "id": "65qRZ7gk97AJ"
      },
      "source": [
        "needed_low = np.delete(low_val, [5241,5240])"
      ],
      "execution_count": 17,
      "outputs": []
    },
    {
      "cell_type": "code",
      "metadata": {
        "id": "abYf23AJ-Dbd"
      },
      "source": [
        "previous_low = np.delete(low_val,[0,1])"
      ],
      "execution_count": 20,
      "outputs": []
    },
    {
      "cell_type": "code",
      "metadata": {
        "id": "_mi8UHnpSXKo"
      },
      "source": [
        "previous_high = np.delete(high_val,[0,1])"
      ],
      "execution_count": 21,
      "outputs": []
    },
    {
      "cell_type": "code",
      "metadata": {
        "id": "e8d_dJBhSnq7"
      },
      "source": [
        "previous_close = np.delete(close_val,[0,1])"
      ],
      "execution_count": 22,
      "outputs": []
    },
    {
      "cell_type": "code",
      "metadata": {
        "id": "1voMi1xISrai"
      },
      "source": [
        "previous_open = np.delete(open_val,[0,1])"
      ],
      "execution_count": 23,
      "outputs": []
    },
    {
      "cell_type": "code",
      "metadata": {
        "id": "V3Ukzs8US2kL"
      },
      "source": [
        "data_values = pd.DataFrame({'open': needed_open, 'yesterday_open': yesterday_open,'previous_open': previous_open,\n",
        "                            'close': needed_close, 'yesterday_close': yesterday_close, 'previous_close': previous_close,\n",
        "                            'high': needed_high, 'yesterday_high': yesterday_high, 'previous_high': previous_high,\n",
        "                            'low': needed_low, 'yesterday_low': yesterday_low, 'previous_low': previous_low})\n"
      ],
      "execution_count": 25,
      "outputs": []
    },
    {
      "cell_type": "code",
      "metadata": {
        "id": "WCWxIpKCT1ZZ"
      },
      "source": [
        "time_series_index = np.delete(data.index, [5241,5240])"
      ],
      "execution_count": 26,
      "outputs": []
    },
    {
      "cell_type": "code",
      "metadata": {
        "id": "mHjXyhTCWtW-"
      },
      "source": [
        "data_values.index = time_series_index"
      ],
      "execution_count": 27,
      "outputs": []
    },
    {
      "cell_type": "code",
      "metadata": {
        "id": "Zmr_-zaAXRaw",
        "colab": {
          "base_uri": "https://localhost:8080/",
          "height": 299
        },
        "outputId": "ee091094-4eb7-451b-fdac-56334cb3050e"
      },
      "source": [
        "sns.scatterplot(x='open',y='previous_open',data=data_values)"
      ],
      "execution_count": 29,
      "outputs": [
        {
          "output_type": "execute_result",
          "data": {
            "text/plain": [
              "<matplotlib.axes._subplots.AxesSubplot at 0x7fdf7c114cc0>"
            ]
          },
          "metadata": {
            "tags": []
          },
          "execution_count": 29
        },
        {
          "output_type": "display_data",
          "data": {
            "image/png": "[encoded data removed]",
            "text/plain": [
              "<Figure size 432x288 with 1 Axes>"
            ]
          },
          "metadata": {
            "tags": [],
            "needs_background": "light"
          }
        }
      ]
    },
    {
      "cell_type": "code",
      "metadata": {
        "id": "bp8EbBQBYE6G",
        "colab": {
          "base_uri": "https://localhost:8080/"
        },
        "outputId": "69067ea7-489c-423d-b88d-ea6a85f30c9e"
      },
      "source": [
        "data_values.info()"
      ],
      "execution_count": 30,
      "outputs": [
        {
          "output_type": "stream",
          "text": [
            "<class 'pandas.core.frame.DataFrame'>\n",
            "DatetimeIndex: 5348 entries, 2021-02-04 to 1999-11-01\n",
            "Data columns (total 12 columns):\n",
            " #   Column           Non-Null Count  Dtype  \n",
            "---  ------           --------------  -----  \n",
            " 0   open             5348 non-null   float64\n",
            " 1   yesterday_open   5348 non-null   float64\n",
            " 2   previous_open    5348 non-null   float64\n",
            " 3   close            5348 non-null   float64\n",
            " 4   yesterday_close  5348 non-null   float64\n",
            " 5   previous_close   5348 non-null   float64\n",
            " 6   high             5348 non-null   float64\n",
            " 7   yesterday_high   5348 non-null   float64\n",
            " 8   previous_high    5348 non-null   float64\n",
            " 9   low              5348 non-null   float64\n",
            " 10  yesterday_low    5348 non-null   float64\n",
            " 11  previous_low     5348 non-null   float64\n",
            "dtypes: float64(12)\n",
            "memory usage: 543.2 KB\n"
          ],
          "name": "stdout"
        }
      ]
    },
    {
      "cell_type": "code",
      "metadata": {
        "id": "tTpC1p-nZn43",
        "colab": {
          "base_uri": "https://localhost:8080/",
          "height": 417
        },
        "outputId": "9fc0ee9e-89a3-4dee-f4c9-a580e3d835fa"
      },
      "source": [
        "data_values.describe().transpose()"
      ],
      "execution_count": 31,
      "outputs": [
        {
          "output_type": "execute_result",
          "data": {
            "text/html": [
              "<div>\n",
              "<style scoped>\n",
              "    .dataframe tbody tr th:only-of-type {\n",
              "        vertical-align: middle;\n",
              "    }\n",
              "\n",
              "    .dataframe tbody tr th {\n",
              "        vertical-align: top;\n",
              "    }\n",
              "\n",
              "    .dataframe thead th {\n",
              "        text-align: right;\n",
              "    }\n",
              "</style>\n",
              "<table border=\"1\" class=\"dataframe\">\n",
              "  <thead>\n",
              "    <tr style=\"text-align: right;\">\n",
              "      <th></th>\n",
              "      <th>count</th>\n",
              "      <th>mean</th>\n",
              "      <th>std</th>\n",
              "      <th>min</th>\n",
              "      <th>25%</th>\n",
              "      <th>50%</th>\n",
              "      <th>75%</th>\n",
              "      <th>max</th>\n",
              "    </tr>\n",
              "  </thead>\n",
              "  <tbody>\n",
              "    <tr>\n",
              "      <th>open</th>\n",
              "      <td>5348.0</td>\n",
              "      <td>55.283358</td>\n",
              "      <td>43.747253</td>\n",
              "      <td>15.20</td>\n",
              "      <td>27.08</td>\n",
              "      <td>35.555</td>\n",
              "      <td>64.8800</td>\n",
              "      <td>242.66</td>\n",
              "    </tr>\n",
              "    <tr>\n",
              "      <th>yesterday_open</th>\n",
              "      <td>5348.0</td>\n",
              "      <td>55.254415</td>\n",
              "      <td>43.674405</td>\n",
              "      <td>15.20</td>\n",
              "      <td>27.08</td>\n",
              "      <td>35.555</td>\n",
              "      <td>64.8800</td>\n",
              "      <td>241.30</td>\n",
              "    </tr>\n",
              "    <tr>\n",
              "      <th>previous_open</th>\n",
              "      <td>5348.0</td>\n",
              "      <td>55.226120</td>\n",
              "      <td>43.603932</td>\n",
              "      <td>15.20</td>\n",
              "      <td>27.08</td>\n",
              "      <td>35.555</td>\n",
              "      <td>64.8800</td>\n",
              "      <td>241.30</td>\n",
              "    </tr>\n",
              "    <tr>\n",
              "      <th>close</th>\n",
              "      <td>5348.0</td>\n",
              "      <td>55.296516</td>\n",
              "      <td>43.765433</td>\n",
              "      <td>15.15</td>\n",
              "      <td>27.12</td>\n",
              "      <td>35.520</td>\n",
              "      <td>64.9325</td>\n",
              "      <td>243.00</td>\n",
              "    </tr>\n",
              "    <tr>\n",
              "      <th>yesterday_close</th>\n",
              "      <td>5348.0</td>\n",
              "      <td>55.267345</td>\n",
              "      <td>43.692890</td>\n",
              "      <td>15.15</td>\n",
              "      <td>27.12</td>\n",
              "      <td>35.520</td>\n",
              "      <td>64.9325</td>\n",
              "      <td>243.00</td>\n",
              "    </tr>\n",
              "    <tr>\n",
              "      <th>previous_close</th>\n",
              "      <td>5348.0</td>\n",
              "      <td>55.238057</td>\n",
              "      <td>43.619462</td>\n",
              "      <td>15.15</td>\n",
              "      <td>27.12</td>\n",
              "      <td>35.520</td>\n",
              "      <td>64.9325</td>\n",
              "      <td>239.65</td>\n",
              "    </tr>\n",
              "    <tr>\n",
              "      <th>high</th>\n",
              "      <td>5348.0</td>\n",
              "      <td>55.911250</td>\n",
              "      <td>44.255301</td>\n",
              "      <td>15.62</td>\n",
              "      <td>27.32</td>\n",
              "      <td>35.775</td>\n",
              "      <td>65.5525</td>\n",
              "      <td>245.09</td>\n",
              "    </tr>\n",
              "    <tr>\n",
              "      <th>yesterday_high</th>\n",
              "      <td>5348.0</td>\n",
              "      <td>55.882223</td>\n",
              "      <td>44.183260</td>\n",
              "      <td>15.62</td>\n",
              "      <td>27.32</td>\n",
              "      <td>35.775</td>\n",
              "      <td>65.5525</td>\n",
              "      <td>245.09</td>\n",
              "    </tr>\n",
              "    <tr>\n",
              "      <th>previous_high</th>\n",
              "      <td>5348.0</td>\n",
              "      <td>55.852943</td>\n",
              "      <td>44.109673</td>\n",
              "      <td>15.62</td>\n",
              "      <td>27.32</td>\n",
              "      <td>35.775</td>\n",
              "      <td>65.5525</td>\n",
              "      <td>242.64</td>\n",
              "    </tr>\n",
              "    <tr>\n",
              "      <th>low</th>\n",
              "      <td>5348.0</td>\n",
              "      <td>54.658338</td>\n",
              "      <td>43.221147</td>\n",
              "      <td>14.87</td>\n",
              "      <td>26.91</td>\n",
              "      <td>35.035</td>\n",
              "      <td>64.2700</td>\n",
              "      <td>240.37</td>\n",
              "    </tr>\n",
              "    <tr>\n",
              "      <th>yesterday_low</th>\n",
              "      <td>5348.0</td>\n",
              "      <td>54.629336</td>\n",
              "      <td>43.148486</td>\n",
              "      <td>14.87</td>\n",
              "      <td>26.91</td>\n",
              "      <td>35.035</td>\n",
              "      <td>64.2700</td>\n",
              "      <td>239.26</td>\n",
              "    </tr>\n",
              "    <tr>\n",
              "      <th>previous_low</th>\n",
              "      <td>5348.0</td>\n",
              "      <td>54.600654</td>\n",
              "      <td>43.076656</td>\n",
              "      <td>14.87</td>\n",
              "      <td>26.91</td>\n",
              "      <td>35.035</td>\n",
              "      <td>64.2700</td>\n",
              "      <td>238.69</td>\n",
              "    </tr>\n",
              "  </tbody>\n",
              "</table>\n",
              "</div>"
            ],
            "text/plain": [
              "                  count       mean        std  ...     50%      75%     max\n",
              "open             5348.0  55.283358  43.747253  ...  35.555  64.8800  242.66\n",
              "yesterday_open   5348.0  55.254415  43.674405  ...  35.555  64.8800  241.30\n",
              "previous_open    5348.0  55.226120  43.603932  ...  35.555  64.8800  241.30\n",
              "close            5348.0  55.296516  43.765433  ...  35.520  64.9325  243.00\n",
              "yesterday_close  5348.0  55.267345  43.692890  ...  35.520  64.9325  243.00\n",
              "previous_close   5348.0  55.238057  43.619462  ...  35.520  64.9325  239.65\n",
              "high             5348.0  55.911250  44.255301  ...  35.775  65.5525  245.09\n",
              "yesterday_high   5348.0  55.882223  44.183260  ...  35.775  65.5525  245.09\n",
              "previous_high    5348.0  55.852943  44.109673  ...  35.775  65.5525  242.64\n",
              "low              5348.0  54.658338  43.221147  ...  35.035  64.2700  240.37\n",
              "yesterday_low    5348.0  54.629336  43.148486  ...  35.035  64.2700  239.26\n",
              "previous_low     5348.0  54.600654  43.076656  ...  35.035  64.2700  238.69\n",
              "\n",
              "[12 rows x 8 columns]"
            ]
          },
          "metadata": {
            "tags": []
          },
          "execution_count": 31
        }
      ]
    },
    {
      "cell_type": "code",
      "metadata": {
        "id": "_-ivPU6hacDn",
        "colab": {
          "base_uri": "https://localhost:8080/"
        },
        "outputId": "1dc085f2-cd84-4c51-ad96-9a995231181f"
      },
      "source": [
        "data_values.corr()['close'].sort_values(ascending = False)"
      ],
      "execution_count": 32,
      "outputs": [
        {
          "output_type": "execute_result",
          "data": {
            "text/plain": [
              "close              1.000000\n",
              "low                0.999831\n",
              "high               0.999817\n",
              "open               0.999673\n",
              "yesterday_close    0.999446\n",
              "yesterday_low      0.999389\n",
              "yesterday_high     0.999357\n",
              "yesterday_open     0.999239\n",
              "previous_close     0.999118\n",
              "previous_low       0.999049\n",
              "previous_high      0.998980\n",
              "previous_open      0.998886\n",
              "Name: close, dtype: float64"
            ]
          },
          "metadata": {
            "tags": []
          },
          "execution_count": 32
        }
      ]
    },
    {
      "cell_type": "code",
      "metadata": {
        "id": "vBjA7IELa70R"
      },
      "source": [
        "x = data_values[['low','open','yesterday_close','yesterday_low','yesterday_high','yesterday_open','previous_close','previous_low','previous_high','previous_open']].values\n",
        "y = data_values['close'].values"
      ],
      "execution_count": 33,
      "outputs": []
    },
    {
      "cell_type": "code",
      "metadata": {
        "id": "Mts7LPfDe8_1",
        "colab": {
          "base_uri": "https://localhost:8080/"
        },
        "outputId": "1b552e99-ff9a-419a-f284-e536572a85b2"
      },
      "source": [
        "y"
      ],
      "execution_count": 34,
      "outputs": [
        {
          "output_type": "execute_result",
          "data": {
            "text/plain": [
              "array([242.01, 243.  , 239.51, ...,  92.  ,  92.56,  92.37])"
            ]
          },
          "metadata": {
            "tags": []
          },
          "execution_count": 34
        }
      ]
    },
    {
      "cell_type": "code",
      "metadata": {
        "id": "dpGHhauke-5F"
      },
      "source": [
        "from sklearn.model_selection import train_test_split\n",
        "x_train, x_test, y_train, y_test = train_test_split(x,y,test_size=0.3,random_state=101)"
      ],
      "execution_count": 35,
      "outputs": []
    },
    {
      "cell_type": "code",
      "metadata": {
        "id": "QDRpvXC9fE8L"
      },
      "source": [
        "from sklearn.preprocessing import MinMaxScaler\n",
        "scaler = MinMaxScaler()\n",
        "x_train= scaler.fit_transform(x_train)\n",
        "x_test = scaler.transform(x_test)"
      ],
      "execution_count": 36,
      "outputs": []
    },
    {
      "cell_type": "code",
      "metadata": {
        "id": "V1eM636CgmqU"
      },
      "source": [
        "from tensorflow.keras.models import Sequential\n",
        "from tensorflow.keras.layers import Dense, Activation\n",
        "from tensorflow.keras.optimizers import Adam\n",
        "from tensorflow.keras.layers import Dropout"
      ],
      "execution_count": 37,
      "outputs": []
    },
    {
      "cell_type": "code",
      "metadata": {
        "id": "BSmPY9higo_9"
      },
      "source": [
        "model = Sequential()\n",
        "\n",
        "\n",
        "model.add(Dense(40,activation='relu'))\n",
        "\n",
        "model.add(Dense(20,activation='relu'))\n",
        "\n",
        "model.add(Dense(10,activation='relu'))\n",
        "\n",
        "model.add(Dense(1))\n",
        "\n",
        "model.compile(optimizer='adam', loss='mse')"
      ],
      "execution_count": 38,
      "outputs": []
    },
    {
      "cell_type": "code",
      "metadata": {
        "id": "TIihU511hzwv"
      },
      "source": [
        "from tensorflow.keras.callbacks import EarlyStopping\n",
        "early_stop = EarlyStopping(monitor='val_loss',mode = 'min',  verbose=1, patience=25)"
      ],
      "execution_count": 43,
      "outputs": []
    },
    {
      "cell_type": "code",
      "metadata": {
        "id": "H8zzGl1oh2gJ",
        "colab": {
          "base_uri": "https://localhost:8080/"
        },
        "outputId": "cc0e0b69-f8e0-4fcd-860f-7627e6772502"
      },
      "source": [
        "model.fit(x=x_train, \n",
        "          y=y_train, \n",
        "          epochs=400,\n",
        "          validation_data=(x_test, y_test), verbose=1,\n",
        "          callbacks=[early_stop]\n",
        "          )"
      ],
      "execution_count": 44,
      "outputs": [
        {
          "output_type": "stream",
          "text": [
            "Epoch 1/400\n",
            "117/117 [==============================] - 0s 2ms/step - loss: 0.7268 - val_loss: 0.6024\n",
            "Epoch 2/400\n",
            "117/117 [==============================] - 0s 2ms/step - loss: 0.6929 - val_loss: 0.6146\n",
            "Epoch 3/400\n",
            "117/117 [==============================] - 0s 2ms/step - loss: 0.7111 - val_loss: 0.6175\n",
            "Epoch 4/400\n",
            "117/117 [==============================] - 0s 2ms/step - loss: 0.8094 - val_loss: 0.6005\n",
            "Epoch 5/400\n",
            "117/117 [==============================] - 0s 2ms/step - loss: 0.7969 - val_loss: 0.6138\n",
            "Epoch 6/400\n",
            "117/117 [==============================] - 0s 2ms/step - loss: 0.7230 - val_loss: 0.6153\n",
            "Epoch 7/400\n",
            "117/117 [==============================] - 0s 2ms/step - loss: 0.8528 - val_loss: 0.7500\n",
            "Epoch 8/400\n",
            "117/117 [==============================] - 0s 2ms/step - loss: 0.7394 - val_loss: 0.6860\n",
            "Epoch 9/400\n",
            "117/117 [==============================] - 0s 2ms/step - loss: 0.7928 - val_loss: 0.6182\n",
            "Epoch 10/400\n",
            "117/117 [==============================] - 0s 2ms/step - loss: 0.6964 - val_loss: 0.6020\n",
            "Epoch 11/400\n",
            "117/117 [==============================] - 0s 2ms/step - loss: 0.7450 - val_loss: 0.6419\n",
            "Epoch 12/400\n",
            "117/117 [==============================] - 0s 2ms/step - loss: 0.6897 - val_loss: 0.5976\n",
            "Epoch 13/400\n",
            "117/117 [==============================] - 0s 2ms/step - loss: 0.7172 - val_loss: 0.8883\n",
            "Epoch 14/400\n",
            "117/117 [==============================] - 0s 2ms/step - loss: 0.7013 - val_loss: 0.6712\n",
            "Epoch 15/400\n",
            "117/117 [==============================] - 0s 2ms/step - loss: 0.6862 - val_loss: 0.6288\n",
            "Epoch 16/400\n",
            "117/117 [==============================] - 0s 2ms/step - loss: 0.7426 - val_loss: 0.9063\n",
            "Epoch 17/400\n",
            "117/117 [==============================] - 0s 2ms/step - loss: 0.7861 - val_loss: 0.6515\n",
            "Epoch 18/400\n",
            "117/117 [==============================] - 0s 2ms/step - loss: 0.7173 - val_loss: 0.6196\n",
            "Epoch 19/400\n",
            "117/117 [==============================] - 0s 2ms/step - loss: 0.7961 - val_loss: 0.8510\n",
            "Epoch 20/400\n",
            "117/117 [==============================] - 0s 2ms/step - loss: 0.8040 - val_loss: 0.6132\n",
            "Epoch 21/400\n",
            "117/117 [==============================] - 0s 2ms/step - loss: 0.7153 - val_loss: 0.6032\n",
            "Epoch 22/400\n",
            "117/117 [==============================] - 0s 2ms/step - loss: 0.8316 - val_loss: 0.5901\n",
            "Epoch 23/400\n",
            "117/117 [==============================] - 0s 2ms/step - loss: 0.7116 - val_loss: 0.7593\n",
            "Epoch 24/400\n",
            "117/117 [==============================] - 0s 2ms/step - loss: 0.6644 - val_loss: 0.7063\n",
            "Epoch 25/400\n",
            "117/117 [==============================] - 0s 2ms/step - loss: 0.7500 - val_loss: 1.0029\n",
            "Epoch 26/400\n",
            "117/117 [==============================] - 0s 2ms/step - loss: 0.6988 - val_loss: 0.6632\n",
            "Epoch 27/400\n",
            "117/117 [==============================] - 0s 2ms/step - loss: 0.9381 - val_loss: 0.7068\n",
            "Epoch 28/400\n",
            "117/117 [==============================] - 0s 2ms/step - loss: 0.7481 - val_loss: 0.6155\n",
            "Epoch 29/400\n",
            "117/117 [==============================] - 0s 2ms/step - loss: 0.7664 - val_loss: 0.7017\n",
            "Epoch 30/400\n",
            "117/117 [==============================] - 0s 2ms/step - loss: 0.7521 - val_loss: 0.6241\n",
            "Epoch 31/400\n",
            "117/117 [==============================] - 0s 3ms/step - loss: 0.6781 - val_loss: 0.6254\n",
            "Epoch 32/400\n",
            "117/117 [==============================] - 0s 2ms/step - loss: 0.6903 - val_loss: 0.6042\n",
            "Epoch 33/400\n",
            "117/117 [==============================] - 0s 2ms/step - loss: 0.6798 - val_loss: 0.6759\n",
            "Epoch 34/400\n",
            "117/117 [==============================] - 0s 2ms/step - loss: 0.6755 - val_loss: 0.6426\n",
            "Epoch 35/400\n",
            "117/117 [==============================] - 0s 2ms/step - loss: 0.6938 - val_loss: 0.5998\n",
            "Epoch 36/400\n",
            "117/117 [==============================] - 0s 2ms/step - loss: 0.8220 - val_loss: 0.6755\n",
            "Epoch 37/400\n",
            "117/117 [==============================] - 0s 2ms/step - loss: 0.7412 - val_loss: 1.4755\n",
            "Epoch 38/400\n",
            "117/117 [==============================] - 0s 2ms/step - loss: 0.7198 - val_loss: 0.6710\n",
            "Epoch 39/400\n",
            "117/117 [==============================] - 0s 2ms/step - loss: 0.6693 - val_loss: 1.0408\n",
            "Epoch 40/400\n",
            "117/117 [==============================] - 0s 2ms/step - loss: 0.7968 - val_loss: 0.6611\n",
            "Epoch 41/400\n",
            "117/117 [==============================] - 0s 2ms/step - loss: 0.6862 - val_loss: 0.6100\n",
            "Epoch 42/400\n",
            "117/117 [==============================] - 0s 2ms/step - loss: 0.7411 - val_loss: 0.5893\n",
            "Epoch 43/400\n",
            "117/117 [==============================] - 0s 2ms/step - loss: 0.6608 - val_loss: 0.6152\n",
            "Epoch 44/400\n",
            "117/117 [==============================] - 0s 2ms/step - loss: 0.6744 - val_loss: 0.6705\n",
            "Epoch 45/400\n",
            "117/117 [==============================] - 0s 2ms/step - loss: 0.6650 - val_loss: 0.5861\n",
            "Epoch 46/400\n",
            "117/117 [==============================] - 0s 2ms/step - loss: 0.7003 - val_loss: 0.6044\n",
            "Epoch 47/400\n",
            "117/117 [==============================] - 0s 2ms/step - loss: 0.6578 - val_loss: 0.5984\n",
            "Epoch 48/400\n",
            "117/117 [==============================] - 0s 2ms/step - loss: 0.6710 - val_loss: 0.5849\n",
            "Epoch 49/400\n",
            "117/117 [==============================] - 0s 2ms/step - loss: 0.7781 - val_loss: 0.5968\n",
            "Epoch 50/400\n",
            "117/117 [==============================] - 0s 2ms/step - loss: 0.6838 - val_loss: 0.6639\n",
            "Epoch 51/400\n",
            "117/117 [==============================] - 0s 2ms/step - loss: 0.8545 - val_loss: 1.9210\n",
            "Epoch 52/400\n",
            "117/117 [==============================] - 0s 2ms/step - loss: 0.7730 - val_loss: 0.8057\n",
            "Epoch 53/400\n",
            "117/117 [==============================] - 0s 2ms/step - loss: 0.7003 - val_loss: 0.6401\n",
            "Epoch 54/400\n",
            "117/117 [==============================] - 0s 2ms/step - loss: 0.7187 - val_loss: 0.9073\n",
            "Epoch 55/400\n",
            "117/117 [==============================] - 0s 2ms/step - loss: 0.7760 - val_loss: 0.6638\n",
            "Epoch 56/400\n",
            "117/117 [==============================] - 0s 2ms/step - loss: 0.7444 - val_loss: 1.5349\n",
            "Epoch 57/400\n",
            "117/117 [==============================] - 0s 2ms/step - loss: 0.7523 - val_loss: 0.7093\n",
            "Epoch 58/400\n",
            "117/117 [==============================] - 0s 2ms/step - loss: 0.6693 - val_loss: 0.6076\n",
            "Epoch 59/400\n",
            "117/117 [==============================] - 0s 2ms/step - loss: 0.7659 - val_loss: 0.5867\n",
            "Epoch 60/400\n",
            "117/117 [==============================] - 0s 2ms/step - loss: 0.8210 - val_loss: 0.5803\n",
            "Epoch 61/400\n",
            "117/117 [==============================] - 0s 2ms/step - loss: 0.6950 - val_loss: 0.6236\n",
            "Epoch 62/400\n",
            "117/117 [==============================] - 0s 2ms/step - loss: 0.6505 - val_loss: 0.6089\n",
            "Epoch 63/400\n",
            "117/117 [==============================] - 0s 2ms/step - loss: 0.6930 - val_loss: 1.0141\n",
            "Epoch 64/400\n",
            "117/117 [==============================] - 0s 2ms/step - loss: 0.6703 - val_loss: 0.6588\n",
            "Epoch 65/400\n",
            "117/117 [==============================] - 0s 2ms/step - loss: 0.7448 - val_loss: 0.6419\n",
            "Epoch 66/400\n",
            "117/117 [==============================] - 0s 2ms/step - loss: 0.6803 - val_loss: 0.5949\n",
            "Epoch 67/400\n",
            "117/117 [==============================] - 0s 2ms/step - loss: 0.6901 - val_loss: 0.6470\n",
            "Epoch 68/400\n",
            "117/117 [==============================] - 0s 2ms/step - loss: 0.7809 - val_loss: 0.9017\n",
            "Epoch 69/400\n",
            "117/117 [==============================] - 0s 2ms/step - loss: 0.6966 - val_loss: 0.6436\n",
            "Epoch 70/400\n",
            "117/117 [==============================] - 0s 2ms/step - loss: 0.7497 - val_loss: 0.6325\n",
            "Epoch 71/400\n",
            "117/117 [==============================] - 0s 2ms/step - loss: 0.7249 - val_loss: 0.6193\n",
            "Epoch 72/400\n",
            "117/117 [==============================] - 0s 2ms/step - loss: 0.7481 - val_loss: 0.5801\n",
            "Epoch 73/400\n",
            "117/117 [==============================] - 0s 2ms/step - loss: 0.7318 - val_loss: 0.5764\n",
            "Epoch 74/400\n",
            "117/117 [==============================] - 0s 2ms/step - loss: 0.7432 - val_loss: 0.6393\n",
            "Epoch 75/400\n",
            "117/117 [==============================] - 0s 2ms/step - loss: 0.6537 - val_loss: 0.6926\n",
            "Epoch 76/400\n",
            "117/117 [==============================] - 0s 2ms/step - loss: 0.6872 - val_loss: 0.8019\n",
            "Epoch 77/400\n",
            "117/117 [==============================] - 0s 2ms/step - loss: 0.6834 - val_loss: 0.5781\n",
            "Epoch 78/400\n",
            "117/117 [==============================] - 0s 2ms/step - loss: 0.6848 - val_loss: 1.1394\n",
            "Epoch 79/400\n",
            "117/117 [==============================] - 0s 2ms/step - loss: 0.8292 - val_loss: 0.7890\n",
            "Epoch 80/400\n",
            "117/117 [==============================] - 0s 2ms/step - loss: 0.7252 - val_loss: 0.6870\n",
            "Epoch 81/400\n",
            "117/117 [==============================] - 0s 2ms/step - loss: 0.7813 - val_loss: 0.9864\n",
            "Epoch 82/400\n",
            "117/117 [==============================] - 0s 2ms/step - loss: 0.6806 - val_loss: 0.5712\n",
            "Epoch 83/400\n",
            "117/117 [==============================] - 0s 2ms/step - loss: 0.6879 - val_loss: 0.5717\n",
            "Epoch 84/400\n",
            "117/117 [==============================] - 0s 3ms/step - loss: 0.6683 - val_loss: 0.6083\n",
            "Epoch 85/400\n",
            "117/117 [==============================] - 0s 2ms/step - loss: 0.7259 - val_loss: 0.5933\n",
            "Epoch 86/400\n",
            "117/117 [==============================] - 0s 2ms/step - loss: 0.7033 - val_loss: 0.5865\n",
            "Epoch 87/400\n",
            "117/117 [==============================] - 0s 2ms/step - loss: 0.7286 - val_loss: 0.5846\n",
            "Epoch 88/400\n",
            "117/117 [==============================] - 0s 2ms/step - loss: 0.6787 - val_loss: 0.5942\n",
            "Epoch 89/400\n",
            "117/117 [==============================] - 0s 2ms/step - loss: 0.7340 - val_loss: 1.4509\n",
            "Epoch 90/400\n",
            "117/117 [==============================] - 0s 2ms/step - loss: 0.6910 - val_loss: 1.0676\n",
            "Epoch 91/400\n",
            "117/117 [==============================] - 0s 2ms/step - loss: 0.7241 - val_loss: 0.6546\n",
            "Epoch 92/400\n",
            "117/117 [==============================] - 0s 2ms/step - loss: 0.7303 - val_loss: 0.8741\n",
            "Epoch 93/400\n",
            "117/117 [==============================] - 0s 2ms/step - loss: 0.6758 - val_loss: 0.5795\n",
            "Epoch 94/400\n",
            "117/117 [==============================] - 0s 2ms/step - loss: 0.6735 - val_loss: 0.8079\n",
            "Epoch 95/400\n",
            "117/117 [==============================] - 0s 2ms/step - loss: 0.7429 - val_loss: 0.6592\n",
            "Epoch 96/400\n",
            "117/117 [==============================] - 0s 2ms/step - loss: 0.6490 - val_loss: 0.7260\n",
            "Epoch 97/400\n",
            "117/117 [==============================] - 0s 2ms/step - loss: 0.7110 - val_loss: 0.5663\n",
            "Epoch 98/400\n",
            "117/117 [==============================] - 0s 2ms/step - loss: 0.7052 - val_loss: 0.9569\n",
            "Epoch 99/400\n",
            "117/117 [==============================] - 0s 2ms/step - loss: 0.6873 - val_loss: 0.8159\n",
            "Epoch 100/400\n",
            "117/117 [==============================] - 0s 2ms/step - loss: 0.6894 - val_loss: 0.5886\n",
            "Epoch 101/400\n",
            "117/117 [==============================] - 0s 2ms/step - loss: 0.8098 - val_loss: 0.7003\n",
            "Epoch 102/400\n",
            "117/117 [==============================] - 0s 2ms/step - loss: 0.6912 - val_loss: 0.5711\n",
            "Epoch 103/400\n",
            "117/117 [==============================] - 0s 2ms/step - loss: 0.7257 - val_loss: 0.7690\n",
            "Epoch 104/400\n",
            "117/117 [==============================] - 0s 2ms/step - loss: 0.6668 - val_loss: 0.5660\n",
            "Epoch 105/400\n",
            "117/117 [==============================] - 0s 2ms/step - loss: 0.6775 - val_loss: 0.8419\n",
            "Epoch 106/400\n",
            "117/117 [==============================] - 0s 2ms/step - loss: 0.6761 - val_loss: 0.5692\n",
            "Epoch 107/400\n",
            "117/117 [==============================] - 0s 2ms/step - loss: 0.7104 - val_loss: 0.6326\n",
            "Epoch 108/400\n",
            "117/117 [==============================] - 0s 2ms/step - loss: 0.7277 - val_loss: 0.9140\n",
            "Epoch 109/400\n",
            "117/117 [==============================] - 0s 2ms/step - loss: 0.7292 - val_loss: 0.6032\n",
            "Epoch 110/400\n",
            "117/117 [==============================] - 0s 2ms/step - loss: 0.6814 - val_loss: 0.5700\n",
            "Epoch 111/400\n",
            "117/117 [==============================] - 0s 2ms/step - loss: 0.7113 - val_loss: 0.6517\n",
            "Epoch 112/400\n",
            "117/117 [==============================] - 0s 2ms/step - loss: 0.6905 - val_loss: 0.7282\n",
            "Epoch 113/400\n",
            "117/117 [==============================] - 0s 2ms/step - loss: 0.6413 - val_loss: 0.7544\n",
            "Epoch 114/400\n",
            "117/117 [==============================] - 0s 2ms/step - loss: 0.6781 - val_loss: 0.5884\n",
            "Epoch 115/400\n",
            "117/117 [==============================] - 0s 2ms/step - loss: 0.7063 - val_loss: 0.5621\n",
            "Epoch 116/400\n",
            "117/117 [==============================] - 0s 2ms/step - loss: 0.6829 - val_loss: 1.3957\n",
            "Epoch 117/400\n",
            "117/117 [==============================] - 0s 2ms/step - loss: 0.6626 - val_loss: 0.5583\n",
            "Epoch 118/400\n",
            "117/117 [==============================] - 0s 2ms/step - loss: 0.6582 - val_loss: 0.6259\n",
            "Epoch 119/400\n",
            "117/117 [==============================] - 0s 2ms/step - loss: 0.6861 - val_loss: 0.5715\n",
            "Epoch 120/400\n",
            "117/117 [==============================] - 0s 2ms/step - loss: 0.7088 - val_loss: 0.8176\n",
            "Epoch 121/400\n",
            "117/117 [==============================] - 0s 2ms/step - loss: 0.6866 - val_loss: 1.4053\n",
            "Epoch 122/400\n",
            "117/117 [==============================] - 0s 2ms/step - loss: 0.6733 - val_loss: 0.6706\n",
            "Epoch 123/400\n",
            "117/117 [==============================] - 0s 2ms/step - loss: 0.7826 - val_loss: 0.6297\n",
            "Epoch 124/400\n",
            "117/117 [==============================] - 0s 2ms/step - loss: 0.7768 - val_loss: 1.0022\n",
            "Epoch 125/400\n",
            "117/117 [==============================] - 0s 2ms/step - loss: 0.7605 - val_loss: 0.6129\n",
            "Epoch 126/400\n",
            "117/117 [==============================] - 0s 2ms/step - loss: 0.6486 - val_loss: 0.6976\n",
            "Epoch 127/400\n",
            "117/117 [==============================] - 0s 2ms/step - loss: 0.7252 - val_loss: 0.7287\n",
            "Epoch 128/400\n",
            "117/117 [==============================] - 0s 3ms/step - loss: 0.6425 - val_loss: 0.5627\n",
            "Epoch 129/400\n",
            "117/117 [==============================] - 0s 2ms/step - loss: 0.6649 - val_loss: 0.8669\n",
            "Epoch 130/400\n",
            "117/117 [==============================] - 0s 2ms/step - loss: 0.7036 - val_loss: 0.7235\n",
            "Epoch 131/400\n",
            "117/117 [==============================] - 0s 2ms/step - loss: 0.6683 - val_loss: 0.5818\n",
            "Epoch 132/400\n",
            "117/117 [==============================] - 0s 2ms/step - loss: 0.7485 - val_loss: 0.6497\n",
            "Epoch 133/400\n",
            "117/117 [==============================] - 0s 2ms/step - loss: 0.6439 - val_loss: 0.5603\n",
            "Epoch 134/400\n",
            "117/117 [==============================] - 0s 2ms/step - loss: 0.7331 - val_loss: 0.5894\n",
            "Epoch 135/400\n",
            "117/117 [==============================] - 0s 2ms/step - loss: 0.6833 - val_loss: 0.6409\n",
            "Epoch 136/400\n",
            "117/117 [==============================] - 0s 2ms/step - loss: 0.6889 - val_loss: 0.7502\n",
            "Epoch 137/400\n",
            "117/117 [==============================] - 0s 2ms/step - loss: 0.6692 - val_loss: 0.5777\n",
            "Epoch 138/400\n",
            "117/117 [==============================] - 0s 2ms/step - loss: 0.6919 - val_loss: 0.5684\n",
            "Epoch 139/400\n",
            "117/117 [==============================] - 0s 2ms/step - loss: 0.7135 - val_loss: 0.6226\n",
            "Epoch 140/400\n",
            "117/117 [==============================] - 0s 2ms/step - loss: 0.7917 - val_loss: 0.6587\n",
            "Epoch 141/400\n",
            "117/117 [==============================] - 0s 2ms/step - loss: 0.6744 - val_loss: 0.8620\n",
            "Epoch 142/400\n",
            "117/117 [==============================] - 0s 2ms/step - loss: 0.6491 - val_loss: 0.8035\n",
            "Epoch 00142: early stopping\n"
          ],
          "name": "stdout"
        },
        {
          "output_type": "execute_result",
          "data": {
            "text/plain": [
              "<tensorflow.python.keras.callbacks.History at 0x7fdf401d4198>"
            ]
          },
          "metadata": {
            "tags": []
          },
          "execution_count": 44
        }
      ]
    },
    {
      "cell_type": "code",
      "metadata": {
        "id": "QBscx_m-mNcc"
      },
      "source": [
        "losses = pd.DataFrame(model.history.history)"
      ],
      "execution_count": 41,
      "outputs": []
    },
    {
      "cell_type": "code",
      "metadata": {
        "id": "HhQYGq_Jmx6R",
        "colab": {
          "base_uri": "https://localhost:8080/",
          "height": 283
        },
        "outputId": "dbe0acbb-8cae-433b-e3b8-2a917ee33829"
      },
      "source": [
        "losses.plot()"
      ],
      "execution_count": 42,
      "outputs": [
        {
          "output_type": "execute_result",
          "data": {
            "text/plain": [
              "<matplotlib.axes._subplots.AxesSubplot at 0x7fdf4021e828>"
            ]
          },
          "metadata": {
            "tags": []
          },
          "execution_count": 42
        },
        {
          "output_type": "display_data",
          "data": {
            "image/png": "[encoded data removed]",
            "text/plain": [
              "<Figure size 432x288 with 1 Axes>"
            ]
          },
          "metadata": {
            "tags": [],
            "needs_background": "light"
          }
        }
      ]
    },
    {
      "cell_type": "code",
      "metadata": {
        "id": "N2A_a5g4myvm"
      },
      "source": [
        "from sklearn.metrics import mean_squared_error,mean_absolute_error,explained_variance_score"
      ],
      "execution_count": null,
      "outputs": []
    },
    {
      "cell_type": "code",
      "metadata": {
        "id": "4XoERGy-n6GL"
      },
      "source": [
        "predictions = model.predict(x_test)"
      ],
      "execution_count": null,
      "outputs": []
    },
    {
      "cell_type": "code",
      "metadata": {
        "id": "mmtyFUyNoA7s",
        "colab": {
          "base_uri": "https://localhost:8080/",
          "height": 35
        },
        "outputId": "35c64530-33ef-4d5a-9259-7933d1d44ec1"
      },
      "source": [
        "mean_absolute_error(y_test,predictions)"
      ],
      "execution_count": null,
      "outputs": [
        {
          "output_type": "execute_result",
          "data": {
            "text/plain": [
              "0.6188966796544975"
            ]
          },
          "metadata": {
            "tags": []
          },
          "execution_count": 67
        }
      ]
    },
    {
      "cell_type": "code",
      "metadata": {
        "id": "bBPIeRUToEuC",
        "colab": {
          "base_uri": "https://localhost:8080/",
          "height": 35
        },
        "outputId": "5653b6c5-623b-41cd-9fc2-883dbd1c827b"
      },
      "source": [
        "np.sqrt(mean_squared_error(y_test,predictions))"
      ],
      "execution_count": null,
      "outputs": [
        {
          "output_type": "execute_result",
          "data": {
            "text/plain": [
              "0.924720172101547"
            ]
          },
          "metadata": {
            "tags": []
          },
          "execution_count": 68
        }
      ]
    },
    {
      "cell_type": "code",
      "metadata": {
        "id": "U_HLD4eaoJ4I",
        "colab": {
          "base_uri": "https://localhost:8080/",
          "height": 35
        },
        "outputId": "a99bd98e-a3da-4d9d-ef92-3099fe0f5747"
      },
      "source": [
        "explained_variance_score(y_test,predictions)"
      ],
      "execution_count": null,
      "outputs": [
        {
          "output_type": "execute_result",
          "data": {
            "text/plain": [
              "0.9996346649711916"
            ]
          },
          "metadata": {
            "tags": []
          },
          "execution_count": 69
        }
      ]
    },
    {
      "cell_type": "code",
      "metadata": {
        "id": "h5qL7frzoMcy",
        "colab": {
          "base_uri": "https://localhost:8080/",
          "height": 283
        },
        "outputId": "d9e6c7bd-ffac-4ca9-820c-23bb2bcf77ed"
      },
      "source": [
        "# Our predictions\n",
        "plt.scatter(y_test,predictions)\n",
        "\n",
        "# Perfect predictions\n",
        "plt.plot(y_test,y_test,'r')"
      ],
      "execution_count": null,
      "outputs": [
        {
          "output_type": "execute_result",
          "data": {
            "text/plain": [
              "[<matplotlib.lines.Line2D at 0x7fd0a7c97940>]"
            ]
          },
          "metadata": {
            "tags": []
          },
          "execution_count": 70
        },
        {
          "output_type": "display_data",
          "data": {
            "image/png": "[encoded data removed]",
            "text/plain": [
              "<Figure size 432x288 with 1 Axes>"
            ]
          },
          "metadata": {
            "tags": [],
            "needs_background": "light"
          }
        }
      ]
    },
    {
      "cell_type": "code",
      "metadata": {
        "id": "i9ZBE4sQoUYF"
      },
      "source": [
        "final = data_values.drop('close',axis=1)\n",
        "final = final.drop('high',axis=1)"
      ],
      "execution_count": 46,
      "outputs": []
    },
    {
      "cell_type": "code",
      "metadata": {
        "id": "0s2KhxXQotEi",
        "colab": {
          "base_uri": "https://localhost:8080/"
        },
        "outputId": "51ff60fe-f7ff-4f7a-c47b-8362ed1b96db"
      },
      "source": [
        "predict = final.iloc[1030]\n",
        "print(predict)"
      ],
      "execution_count": 47,
      "outputs": [
        {
          "output_type": "stream",
          "text": [
            "open               62.96\n",
            "yesterday_open     62.86\n",
            "previous_open      63.40\n",
            "yesterday_close    62.90\n",
            "previous_close     62.99\n",
            "yesterday_high     63.20\n",
            "previous_high      63.40\n",
            "low                62.03\n",
            "yesterday_low      62.73\n",
            "previous_low       62.83\n",
            "Name: 2016-12-30 00:00:00, dtype: float64\n"
          ],
          "name": "stdout"
        }
      ]
    },
    {
      "cell_type": "code",
      "metadata": {
        "id": "ShNNOpCcpSov"
      },
      "source": [
        "predict = scaler.transform(predict.values.reshape(-1, 10))"
      ],
      "execution_count": null,
      "outputs": []
    },
    {
      "cell_type": "code",
      "metadata": {
        "id": "jVVaVlrUpb4i",
        "colab": {
          "base_uri": "https://localhost:8080/",
          "height": 52
        },
        "outputId": "b38cdd12-a991-4bd1-c0eb-595e689acd66"
      },
      "source": [
        "predict"
      ],
      "execution_count": null,
      "outputs": [
        {
          "output_type": "execute_result",
          "data": {
            "text/plain": [
              "array([[0.19427519, 0.1944314 , 0.1956676 , 0.20202415, 0.1908783 ,\n",
              "        0.20029852, 0.20456311, 0.20173836, 0.19610597, 0.20381883]])"
            ]
          },
          "metadata": {
            "tags": []
          },
          "execution_count": 111
        }
      ]
    },
    {
      "cell_type": "code",
      "metadata": {
        "id": "34pPx_uPpdRb",
        "colab": {
          "base_uri": "https://localhost:8080/",
          "height": 35
        },
        "outputId": "0d68de80-3929-4b84-bcd6-5eb5d1227efc"
      },
      "source": [
        "model.predict(predict)"
      ],
      "execution_count": null,
      "outputs": [
        {
          "output_type": "execute_result",
          "data": {
            "text/plain": [
              "array([[55.828243]], dtype=float32)"
            ]
          },
          "metadata": {
            "tags": []
          },
          "execution_count": 112
        }
      ]
    },
    {
      "cell_type": "code",
      "metadata": {
        "id": "X9t0BJG7pnBl",
        "colab": {
          "base_uri": "https://localhost:8080/",
          "height": 35
        },
        "outputId": "06d21e36-ff01-49e1-d677-a1747594c5ae"
      },
      "source": [
        "needed_close[1030]"
      ],
      "execution_count": null,
      "outputs": [
        {
          "output_type": "execute_result",
          "data": {
            "text/plain": [
              "56.21"
            ]
          },
          "metadata": {
            "tags": []
          },
          "execution_count": 113
        }
      ]
    },
    {
      "cell_type": "code",
      "metadata": {
        "id": "jq3IRkt4qq0h",
        "colab": {
          "base_uri": "https://localhost:8080/",
          "height": 35
        },
        "outputId": "68992a6a-3298-4681-ce50-b9bcfc965d56"
      },
      "source": [
        "needed_open[1030]"
      ],
      "execution_count": null,
      "outputs": [
        {
          "output_type": "execute_result",
          "data": {
            "text/plain": [
              "56.0"
            ]
          },
          "metadata": {
            "tags": []
          },
          "execution_count": 114
        }
      ]
    },
    {
      "cell_type": "code",
      "metadata": {
        "id": "fcwwGrc_q2fC"
      },
      "source": [
        ""
      ],
      "execution_count": null,
      "outputs": []
    }
  ]
}